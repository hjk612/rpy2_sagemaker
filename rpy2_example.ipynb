{
 "cells": [
  {
   "cell_type": "code",
   "execution_count": 1,
   "id": "07834624-36cb-4073-887b-fd4fcc1bae69",
   "metadata": {},
   "outputs": [
    {
     "name": "stdout",
     "output_type": "stream",
     "text": [
      "Setting up R and rpy2 environment...\n",
      "Added conda environment to Python path: /home/ec2-user/miniconda3/envs/r_env/lib/python3.8/site-packages\n",
      "Set R_HOME to /home/ec2-user/miniconda3/envs/r_env/lib/R\n",
      "rpy2 version: 3.5.11\n",
      "Successfully imported rpy2.robjects\n",
      "Basic R test: 1+1 = 2.0\n",
      "\n",
      "R and rpy2 setup successful!\n",
      "\n",
      "Example usage:\n",
      "import rpy2.robjects as ro\n",
      "from rpy2.robjects.packages import importr\n",
      "from rpy2.robjects import pandas2ri\n",
      "pandas2ri.activate()\n",
      "result = ro.r('rnorm(10)')\n",
      "print(result)\n",
      "\n",
      "Pandas integration activated successfully!\n"
     ]
    }
   ],
   "source": [
    "%run ~/setup_rpy2.py"
   ]
  },
  {
   "cell_type": "code",
   "execution_count": 2,
   "id": "9c6c8b17-2c51-43f5-98a0-82529f6dfe16",
   "metadata": {},
   "outputs": [
    {
     "name": "stdout",
     "output_type": "stream",
     "text": [
      "/home/ec2-user/SageMaker\n"
     ]
    }
   ],
   "source": [
    "!pwd"
   ]
  },
  {
   "cell_type": "code",
   "execution_count": 3,
   "id": "c48ecf1b-721a-40d2-a982-2a0732715510",
   "metadata": {},
   "outputs": [],
   "source": [
    "import subprocess\n",
    "import sys\n",
    "from IPython.display import clear_output\n",
    "\n",
    "def install_r_packages(package_list, verbose=False):\n",
    "    \"\"\"\n",
    "    Install R packages using conda with controlled output\n",
    "    \n",
    "    Args:\n",
    "        package_list: List of R package names (without 'r-' prefix)\n",
    "        verbose: Whether to show detailed output\n",
    "        \n",
    "    Returns:\n",
    "        bool: True if successful, False otherwise\n",
    "    \"\"\"\n",
    "    # Add r- prefix to package names\n",
    "    conda_packages = [f\"r-{pkg.lower()}\" for pkg in package_list]\n",
    "    \n",
    "    print(f\"Installing packages: {', '.join(package_list)}...\")\n",
    "    \n",
    "    try:\n",
    "        # Prepare the conda command\n",
    "        cmd = [\n",
    "            \"conda\", \"install\", \"-y\", \"-c\", \"conda-forge\", \n",
    "            *conda_packages\n",
    "        ]\n",
    "        \n",
    "        # Run the installation with output capture\n",
    "        process = subprocess.Popen(\n",
    "            cmd,\n",
    "            stdout=subprocess.PIPE,\n",
    "            stderr=subprocess.PIPE,\n",
    "            text=True\n",
    "        )\n",
    "        \n",
    "        # Process output in real-time if verbose\n",
    "        if verbose:\n",
    "            while True:\n",
    "                output = process.stdout.readline()\n",
    "                if output == '' and process.poll() is not None:\n",
    "                    break\n",
    "                if output:\n",
    "                    print(output.strip())\n",
    "                    \n",
    "        # Wait for command to complete\n",
    "        return_code = process.wait()\n",
    "        \n",
    "        # Clear previous output and show final status\n",
    "        clear_output(wait=True)\n",
    "        \n",
    "        if return_code == 0:\n",
    "            print(f\"✅ Successfully installed: {', '.join(package_list)}\")\n",
    "            return True\n",
    "        else:\n",
    "            error_output = process.stderr.read()\n",
    "            print(f\"❌ Installation failed with error:\")\n",
    "            print('\\n'.join(error_output.split('\\n')[-5:]))\n",
    "            return False\n",
    "            \n",
    "    except Exception as e:\n",
    "        print(f\"❌ Error: {str(e)}\")\n",
    "        return False"
   ]
  },
  {
   "cell_type": "code",
   "execution_count": 4,
   "id": "028e06db-204d-4f16-8022-3aebb33f9f9a",
   "metadata": {},
   "outputs": [
    {
     "name": "stdout",
     "output_type": "stream",
     "text": [
      "✅ Successfully installed: matchit\n"
     ]
    },
    {
     "data": {
      "text/plain": [
       "True"
      ]
     },
     "execution_count": 4,
     "metadata": {},
     "output_type": "execute_result"
    }
   ],
   "source": [
    "install_r_packages([\"matchit\"])"
   ]
  },
  {
   "cell_type": "code",
   "execution_count": 5,
   "id": "d3c15b30-cb82-49a6-8c66-80d5da014650",
   "metadata": {},
   "outputs": [
    {
     "name": "stdout",
     "output_type": "stream",
     "text": [
      "✅ Packages installed successfully.\n"
     ]
    }
   ],
   "source": [
    "%%bash\n",
    "# Alternate way to install the required R packages.\n",
    "if source ~/miniconda3/bin/activate && \\\n",
    "   conda activate r_env && \\\n",
    "   conda install -y -c conda-forge r-matchit r-rcpp r-rlang r-backports r-dplyr > /dev/null 2>&1; then\n",
    "  echo \"✅ Packages installed successfully.\"\n",
    "else\n",
    "  echo \"❌ Error: Package installation failed. Try running without output suppression for details.\"\n",
    "fi"
   ]
  },
  {
   "cell_type": "code",
   "execution_count": 6,
   "id": "f1d5541a-da3e-4233-b25f-6e99eba4c39d",
   "metadata": {},
   "outputs": [
    {
     "name": "stdout",
     "output_type": "stream",
     "text": [
      "Matched data:\n",
      "   treatment  age  income  education      distance  weights  subclass\n",
      "0          1   34     100         12  1.000000e+00      1.0         1\n",
      "1          0   22     200         16  2.220446e-16      1.0         3\n",
      "2          1   45     150         14  1.000000e+00      1.0         2\n",
      "3          0   25     250         13  8.043900e-13      1.0         2\n",
      "4          1   50     120         18  1.000000e+00      1.0         3\n",
      "5          0   27     210         15  7.890961e-11      1.0         1\n"
     ]
    }
   ],
   "source": [
    "# Now import and use MatchIt\n",
    "import rpy2.robjects as ro\n",
    "from rpy2.robjects.packages import importr\n",
    "from rpy2.robjects import pandas2ri\n",
    "import pandas as pd\n",
    "\n",
    "# Enable pandas conversion\n",
    "pandas2ri.activate()\n",
    "\n",
    "# Import the package (should work now)\n",
    "matchit = importr('MatchIt')\n",
    "\n",
    "# Sample pandas dataframe\n",
    "df = pd.DataFrame({\n",
    "    'treatment': [1, 0, 1, 0, 1, 0],\n",
    "    'age': [34, 22, 45, 25, 50, 27],\n",
    "    'income': [100, 200, 150, 250, 120, 210],\n",
    "    'education': [12, 16, 14, 13, 18, 15]\n",
    "})\n",
    "\n",
    "# Convert to R dataframe\n",
    "r_df = pandas2ri.py2rpy(df)\n",
    "\n",
    "# Run MatchIt\n",
    "formula = ro.Formula('treatment ~ age + income + education')\n",
    "match_result = matchit.matchit(formula, data=r_df, method=\"nearest\")\n",
    "\n",
    "# Get matched data\n",
    "matched_data = matchit.match_data(match_result)\n",
    "print(\"Matched data:\")\n",
    "print(pandas2ri.rpy2py(matched_data))"
   ]
  },
  {
   "cell_type": "code",
   "execution_count": null,
   "id": "32e81b53-e6e5-4ea5-a5f3-d10608c6c44a",
   "metadata": {},
   "outputs": [],
   "source": []
  }
 ],
 "metadata": {
  "kernelspec": {
   "display_name": "Python 3 (ipykernel)",
   "language": "python",
   "name": "python3"
  },
  "language_info": {
   "codemirror_mode": {
    "name": "ipython",
    "version": 3
   },
   "file_extension": ".py",
   "mimetype": "text/x-python",
   "name": "python",
   "nbconvert_exporter": "python",
   "pygments_lexer": "ipython3",
   "version": "3.12.4"
  }
 },
 "nbformat": 4,
 "nbformat_minor": 5
}
